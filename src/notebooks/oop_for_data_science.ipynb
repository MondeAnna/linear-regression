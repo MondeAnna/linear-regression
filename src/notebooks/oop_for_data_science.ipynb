{
 "cells": [
  {
   "cell_type": "markdown",
   "id": "7a5ed8db",
   "metadata": {},
   "source": [
    "<br />\n",
    "\n",
    "<h1 align=\"center\">OOP for Data Science</h1>\n",
    "<h5 align=\"center\">by</h5>\n",
    "<h3 align=\"center\">Monde Anna</h3>\n",
    "\n",
    "<br />\n",
    "<br />\n"
   ]
  },
  {
   "cell_type": "code",
   "execution_count": 1,
   "id": "8a121386",
   "metadata": {},
   "outputs": [],
   "source": [
    "from utilities.inference_calculator import InferenceCalculator\n",
    "from utilities.error_calculator import ErrorCalculator\n",
    "from utilities.plotter import Plotter\n",
    "import pandas as pd\n",
    "import pickle\n"
   ]
  },
  {
   "cell_type": "markdown",
   "id": "1daa4b17",
   "metadata": {},
   "source": [
    "<br />\n",
    "\n",
    "<h2 align=\"center\">Project Preparation</h2>\n",
    "\n",
    "<br />\n",
    "<br />\n"
   ]
  },
  {
   "cell_type": "markdown",
   "id": "0aed45f9",
   "metadata": {},
   "source": [
    "<h3 align=\"center\">Import Models</h3>\n",
    "\n",
    "<br />\n",
    "<br />\n"
   ]
  },
  {
   "cell_type": "code",
   "execution_count": 2,
   "id": "ebf6de38",
   "metadata": {},
   "outputs": [],
   "source": [
    "models = {}\n",
    "feature_sets = {}\n",
    "\n",
    "for i in range(1, 4):\n",
    "    models[f\"Model {i}\"] = pickle.load(\n",
    "        open(f\"../models/model_{i}.pkl\", \"rb\")\n",
    "    )\n",
    "\n",
    "    feature_sets[f\"Model {i}\"] = pickle.load(\n",
    "        open(f\"../models/model_{i}_features.pkl\", \"rb\")\n",
    "    )\n"
   ]
  },
  {
   "cell_type": "markdown",
   "id": "24a8553b",
   "metadata": {},
   "source": [
    "<br />\n",
    "\n",
    "<h3 align=\"center\">Import Cleaned Data</h3>\n",
    "\n",
    "<br />\n",
    "<br />\n"
   ]
  },
  {
   "cell_type": "code",
   "execution_count": 3,
   "id": "846fb141",
   "metadata": {},
   "outputs": [],
   "source": [
    "df = pd.read_csv(\"../data/salary_log_transformed.csv\")\n",
    "X = df.drop(columns=[\"salary\"])\n",
    "y = df[\"salary\"]\n"
   ]
  },
  {
   "cell_type": "markdown",
   "id": "16636d3f",
   "metadata": {},
   "source": [
    "<br />\n",
    "\n",
    "<h2 align=\"center\">Project Preparation</h2>\n",
    "\n",
    "<br />\n",
    "<br />\n"
   ]
  }
 ],
 "metadata": {
  "kernelspec": {
   "display_name": "Python 3 (ipykernel)",
   "language": "python",
   "name": "python3"
  },
  "language_info": {
   "codemirror_mode": {
    "name": "ipython",
    "version": 3
   },
   "file_extension": ".py",
   "mimetype": "text/x-python",
   "name": "python",
   "nbconvert_exporter": "python",
   "pygments_lexer": "ipython3",
   "version": "3.9.12"
  }
 },
 "nbformat": 4,
 "nbformat_minor": 5
}
